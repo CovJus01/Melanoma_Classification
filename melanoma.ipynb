{
  "cells": [
    {
      "cell_type": "markdown",
      "source": [
        "# Melanoma Detection\n",
        "\n",
        "This project is meant to be a test in image processing through a neural net and creates a classification algorithm using the topics covered in the Machine Learning Specialization on Coursera. It uses a dataset from kaggle that can be reached here:\n",
        "https://www.kaggle.com/datasets/wanderdust/skin-lesion-analysis-toward-melanoma-detection\n",
        "\n",
        "This model will use greyscale images of different types of skin blemishes to train on.\n",
        "\n",
        "We first must import the required libraries"
      ],
      "metadata": {
        "id": "OAEo5ogXqLR9"
      }
    },
    {
      "cell_type": "code",
      "execution_count": null,
      "metadata": {
        "id": "QjNCWvBGqEz4"
      },
      "outputs": [],
      "source": [
        "import numpy as np\n",
        "import tensorflow as tf\n",
        "import matplotlib.pyplot as plt\n",
        "from PIL import Image\n",
        "import os\n",
        "from google.colab import drive\n",
        "drive.mount('/content/drive')"
      ]
    },
    {
      "cell_type": "markdown",
      "source": [
        "### Data Collection\n",
        "\n",
        "The next portion of this will consist of processing the images into a feature training set. This will also classify each based on the directory they come from. We can change the way the classification works but will classify based on the data it comes from."
      ],
      "metadata": {
        "id": "-1l0K2SirhZA"
      }
    },
    {
      "cell_type": "code",
      "source": [
        "def import_data(dir, classifier, dimension):\n",
        "  Xarr = []\n",
        "  Yarr = []\n",
        "  print(f\"*** Processing: {dir} ***\")\n",
        "  for path in os.listdir(dir):\n",
        "      print(f\"*** Processing: {path} ***\")\n",
        "\n",
        "      for filename in os.listdir(f\"{dir}/{path}\"):\n",
        "          print(f\"Processing {path}-{filename}\")\n",
        "\n",
        "          #Open Image and resize\n",
        "          im =  Image.open(f\"{dir}/{path}/{filename}\").convert(\"L\")\n",
        "          resized_im = im.resize(dimension)\n",
        "\n",
        "          #Append values to arrays\n",
        "          Xarr.append(list(resized_im.getdata()))\n",
        "          Yarr.append(classifier[f\"{path}\"])\n",
        "          im.close()\n",
        "\n",
        "  return Xarr, Yarr"
      ],
      "metadata": {
        "id": "MQIsjZ2ysn2G"
      },
      "execution_count": 3,
      "outputs": []
    },
    {
      "cell_type": "code",
      "source": [
        "# Initialize some values\n",
        "image_dimension = (200,200)\n",
        "features = image_dimension[0]*image_dimension[1]\n",
        "data_dir = \"./drive/MyDrive/ML/Melanoma/skin-lesions\"\n",
        "train_dir = f\"{data_dir}/train\"\n",
        "val_dir = f\"{data_dir}/valid\"\n",
        "test_dir = f\"{data_dir}/test\"\n",
        "class_vals = {\n",
        "    \"nevus\": 0,\n",
        "    \"seborrheic_keratosis\": 1,\n",
        "    \"melanoma\": 2\n",
        "}\n",
        "\n",
        "\n",
        "#Import the Data\n",
        "X_train, Y_train = import_data(train_dir, class_vals, image_dimension)\n",
        "X_val, Y_val = import_data(val_dir, class_vals, image_dimension)\n",
        "\n",
        "#Reshape Data\n",
        "X_train = np.reshape(np.array(X_train), (-1, features))\n",
        "Y_train = np.reshape(np.array(Y_train), (-1, 1))\n",
        "X_val = np.reshape(np.array(X_val), (-1, features))\n",
        "Y_val = np.reshape(np.array(Y_val), (-1, 1))\n",
        "\n",
        "#Print data shapes\n",
        "print(f\"X shape: {X_train.shape}\")\n",
        "print(f\"Y shape: {Y_train.shape}\")\n",
        "print(f\"X shape: {X_val.shape}\")\n",
        "print(f\"Y shape: {Y_val.shape}\")"
      ],
      "metadata": {
        "id": "slmKbpNOrfWD"
      },
      "execution_count": null,
      "outputs": []
    },
    {
      "cell_type": "markdown",
      "source": [
        "We need to normalize the data as well, we will use z-score normalization on the data"
      ],
      "metadata": {
        "id": "5IuP1RrTq28P"
      }
    },
    {
      "cell_type": "code",
      "source": [
        "def zScoreNormilization(X):\n",
        "    mean = np.mean(X, axis = 0)\n",
        "    deviation = np.std(X, axis = 0)\n",
        "\n",
        "    normalized_x = (X - mean)/deviation\n",
        "\n",
        "    return normalized_x, mean, deviation\n",
        "\n",
        "X_train, train_mean, train_deviation = zScoreNormilization(X_train)\n",
        "X_val = (X_val - train_mean)/train_deviation"
      ],
      "metadata": {
        "id": "-DxfteJdrRFW"
      },
      "execution_count": 5,
      "outputs": []
    },
    {
      "cell_type": "markdown",
      "source": [
        "We also need to shuffle the data so that the model sees different labels throughout its training"
      ],
      "metadata": {
        "id": "qWl4j9cYCebP"
      }
    },
    {
      "cell_type": "code",
      "source": [
        "p = np.random.permutation(X_train.shape[0])\n",
        "X_train = X_train[p]\n",
        "Y_train = Y_train[p]"
      ],
      "metadata": {
        "id": "Dl6PdaWe3OrV"
      },
      "execution_count": 6,
      "outputs": []
    },
    {
      "cell_type": "markdown",
      "source": [
        "For analysis we will also run multiple models with varying dataset sizes. We will start at 1 and increase the data set size to create a learning curve so we can see the growth of our model. These will be the size of the training sets we will use:\n",
        "- 1\n",
        "- 10\n",
        "- 50\n",
        "- 100\n",
        "- 200\n",
        "- 400\n",
        "- 800\n",
        "- 1000\n",
        "- 1500\n",
        "- 2001 (Full set)\n"
      ],
      "metadata": {
        "id": "r4sCUANk-0gC"
      }
    },
    {
      "cell_type": "code",
      "source": [
        "histories=[]\n",
        "set_size_list = [1, 10, 20, 50, 100, 200, 400, 800, 1000, 1500, 2001]\n",
        "tf.random.set_seed(1234)\n",
        "model = tf.keras.Sequential([\n",
        "    tf.keras.Input(shape = (features,)),\n",
        "    tf.keras.layers.Dense(units = 25, activation=\"relu\"),\n",
        "    tf.keras.layers.Dense(units = 15, activation=\"relu\"),\n",
        "    tf.keras.layers.Dense(units = 7, activation=\"relu\"),\n",
        "    tf.keras.layers.Dense(units = 3, activation=\"linear\")\n",
        "])\n",
        "\n",
        "model.summary()\n",
        "\n",
        "model.compile(\n",
        "    loss = tf.keras.losses.SparseCategoricalCrossentropy(from_logits=True),\n",
        "    optimizer = tf.keras.optimizers.Adam(learning_rate = 0.01),\n",
        "    metrics = [tf.keras.metrics.SparseCategoricalAccuracy()]\n",
        ")\n",
        "\n",
        "\n",
        "\n",
        "\n",
        "for i in set_size_list:\n",
        "  history = model.fit(X_train[:i],Y_train[:i], epochs=50,validation_data=(X_val,Y_val))\n",
        "  histories.append(history)\n",
        "\n",
        "\n",
        "\n"
      ],
      "metadata": {
        "id": "i24YZdCg3tc6"
      },
      "execution_count": null,
      "outputs": []
    },
    {
      "cell_type": "markdown",
      "source": [
        "# Plotting the Training Accuracy VS the Validation Accuracy"
      ],
      "metadata": {
        "id": "E3ty0tai2JgY"
      }
    },
    {
      "cell_type": "code",
      "source": [
        "fig, ax = plt.subplots()\n",
        "ax.plot(set_size_list, [history.history[\"sparse_categorical_accuracy\"][-1] for history in histories], label=\"Training Loss\", color='blue')\n",
        "ax.plot(set_size_list, [history.history[\"val_sparse_categorical_accuracy\"][-1] for history in histories], label=\"Validation Loss\", color='red')\n",
        "plt.show()"
      ],
      "metadata": {
        "colab": {
          "base_uri": "https://localhost:8080/",
          "height": 447
        },
        "id": "ekNEpODRx3vo",
        "outputId": "8c51f584-587e-4bb0-85a5-9d3ba5effac1"
      },
      "execution_count": 18,
      "outputs": [
        {
          "output_type": "stream",
          "name": "stdout",
          "text": [
            "dict_keys(['loss', 'sparse_categorical_accuracy', 'val_loss', 'val_sparse_categorical_accuracy'])\n"
          ]
        },
        {
          "output_type": "display_data",
          "data": {
            "text/plain": [
              "<Figure size 640x480 with 1 Axes>"
            ],
            "image/png": "[encoded data removed]"
          },
          "metadata": {}
        }
      ]
    },
    {
      "cell_type": "markdown",
      "source": [
        "# Testing the model"
      ],
      "metadata": {
        "id": "YEoUM_vOtTSz"
      }
    },
    {
      "cell_type": "code",
      "source": [
        "X_test, Y_test = import_data(test_dir, class_vals, image_dimension)\n",
        "X_test = np.reshape(np.array(X_test), (-1, features))\n",
        "Y_test = np.reshape(np.array(Y_test), (-1, 1))\n",
        "X_test = (X_test - train_mean)/train_deviation\n",
        "\n",
        "predict = model.predict(X_test)\n",
        "\n",
        "\n",
        "for i in range(predict.shape[0]):\n",
        "  #predict = (predict > 0.5).astype(int)\n",
        "  print(f\"Actual: {Y_test[i]}, Predicted: {predict[i]}\")"
      ],
      "metadata": {
        "id": "iifhAYXEsJUm"
      },
      "execution_count": null,
      "outputs": []
    }
  ],
  "metadata": {
    "language_info": {
      "name": "python"
    },
    "colab": {
      "provenance": []
    },
    "kernelspec": {
      "name": "python3",
      "display_name": "Python 3"
    }
  },
  "nbformat": 4,
  "nbformat_minor": 0
}