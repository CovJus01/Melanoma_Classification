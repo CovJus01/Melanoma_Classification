{
  "cells": [
    {
      "cell_type": "markdown",
      "source": [
        "# Melanoma Detection\n",
        "\n",
        "This project is meant to be a test in image processing through a neural net and creates a classification algorithm using the topics covered in the Machine Learning Specialization on Coursera. It uses a dataset from kaggle that can be reached here:\n",
        "https://www.kaggle.com/datasets/wanderdust/skin-lesion-analysis-toward-melanoma-detection\n",
        "\n",
        "This model will use greyscale images of different types of skin blemishes to train on.\n",
        "\n",
        "We first must import the required libraries"
      ],
      "metadata": {
        "id": "OAEo5ogXqLR9"
      }
    },
    {
      "cell_type": "code",
      "execution_count": 1,
      "metadata": {
        "id": "QjNCWvBGqEz4",
        "outputId": "4b99e1a2-bcf3-4ca0-eda6-918e0815013a",
        "colab": {
          "base_uri": "https://localhost:8080/"
        }
      },
      "outputs": [
        {
          "output_type": "stream",
          "name": "stdout",
          "text": [
            "Mounted at /content/drive\n"
          ]
        }
      ],
      "source": [
        "import numpy as np\n",
        "import tensorflow as tf\n",
        "import matplotlib.pyplot\n",
        "from PIL import Image\n",
        "import os\n",
        "from google.colab import drive\n",
        "drive.mount('/content/drive')"
      ]
    },
    {
      "cell_type": "markdown",
      "source": [
        "### Data Collection\n",
        "\n",
        "The next portion of this will consist of processing the images into a feature training set. This will also classify each based on the directory they come from. Since there are 3 classifiers, we will have 3 values of classification ranging from 0-2."
      ],
      "metadata": {
        "id": "-1l0K2SirhZA"
      }
    },
    {
      "cell_type": "code",
      "source": [
        "image_dimension = (1022,767)\n",
        "features = image_dimension[0]*image_dimension[1]\n",
        "X_train = []\n",
        "Y_train = []\n",
        "data_dir = \"./drive/MyDrive/ML/Melanoma/skin-lesions\"\n",
        "train_dir = f\"{data_dir}/train\"\n",
        "val_dir = f\"{data_dir}/valid\"\n",
        "test_dir = f\"{data_dir}/test\"\n",
        "\n",
        "class_indicator = 0\n",
        "\n",
        "for path in os.listdir(train_dir):\n",
        "    print(f\"*** Processing: {path} ***\")\n",
        "    for filename in os.listdir(f\"{train_dir}/{path}\"):\n",
        "        print(f\"Processing {path}-{filename}\")\n",
        "        im =  Image.open(f\"{train_dir}/{path}/{filename}\").convert(\"L\")\n",
        "        resized_im = im.resize(image_dimension)\n",
        "        X_train.append(list(resized_im.getdata()))\n",
        "        Y_train.append(class_indicator)\n",
        "        im.close()\n",
        "    class_indicator+=1\n",
        "\n",
        "\n",
        "X_train = np.array(X_train)\n",
        "Y_train = np.array(Y_train)\n",
        "X_train = np.reshape(X_train, (-1, features))\n",
        "Y_train = np.reshape(Y_train, (-1, 1))\n",
        "\n",
        "print(f\"X shape: {X_train.shape}\")\n",
        "print(f\"Y shape: {Y_train.shape}\")"
      ],
      "metadata": {
        "id": "slmKbpNOrfWD"
      },
      "execution_count": null,
      "outputs": []
    },
    {
      "cell_type": "code",
      "source": [
        "p = np.random.permutation(X_train.shape[0])\n",
        "X_train = X_train[p]\n",
        "Y_train = Y_train[p]"
      ],
      "metadata": {
        "id": "Dl6PdaWe3OrV"
      },
      "execution_count": 3,
      "outputs": []
    },
    {
      "cell_type": "code",
      "source": [
        "model = tf.keras.Sequential([\n",
        "    tf.keras.Input(shape = (features,)),\n",
        "    tf.keras.layers.Dense(units = 100, activation=\"relu\"),\n",
        "    tf.keras.layers.Dense(units = 100, activation=\"relu\"),\n",
        "    tf.keras.layers.Dense(units = 100, activation=\"relu\"),\n",
        "    tf.keras.layers.Dense(units = 100, activation=\"relu\"),\n",
        "    tf.keras.layers.Dense(units = 50, activation=\"relu\"),\n",
        "    tf.keras.layers.Dense(units = 10, activation=\"relu\"),\n",
        "    tf.keras.layers.Dense(units = 3, activation=\"linear\")\n",
        "])\n",
        "\n",
        "model.summary()\n",
        "\n",
        "model.compile(\n",
        "    loss = tf.keras.losses.SparseCategoricalCrossentropy(from_logits=\"true\"),\n",
        "    optimizer = tf.keras.optimizers.Adam(0.01)\n",
        ")\n",
        "\n",
        "model.fit(X_train,Y_train, epochs=10)\n",
        "\n",
        "predict = model.predict(X_train[0].reshape(-1,features))\n",
        "\n",
        "print(f\"Actual: {Y_train[0]}, Predicted: {predict}\")"
      ],
      "metadata": {
        "id": "i24YZdCg3tc6"
      },
      "execution_count": null,
      "outputs": []
    }
  ],
  "metadata": {
    "language_info": {
      "name": "python"
    },
    "colab": {
      "provenance": [],
      "machine_shape": "hm",
      "gpuType": "A100"
    },
    "kernelspec": {
      "name": "python3",
      "display_name": "Python 3"
    },
    "accelerator": "GPU"
  },
  "nbformat": 4,
  "nbformat_minor": 0
}