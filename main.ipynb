{
 "cells": [
  {
   "cell_type": "code",
   "execution_count": null,
   "metadata": {},
   "outputs": [],
   "source": [
    "import numpy as np\n",
    "import tensorflow as tf\n",
    "import matplotlib.pyplot\n",
    "from PIL import Image\n",
    "import os\n",
    "\n",
    "image_dimension = (1022,767)\n",
    "features = image_dimension[0]*image_dimension[1]\n",
    "X_train = []\n",
    "Y_train = []\n",
    "\n",
    "class_indicator = 0\n",
    "for path in os.listdir(\"./skin-lesions/train\"):\n",
    "    print(f\"||||||||||||||||||||||||||||Processing: {path}|||||||||||||||||||||||||||||||||||||\")\n",
    "    for filename in os.listdir(f\"./skin-lesions/train/{path}\"):\n",
    "        print(f\"Processing {filename}\")\n",
    "        im =  Image.open(f\"./skin-lesions/train/{path}/{filename}\").convert(\"L\")\n",
    "        resized_im = im.resize(image_dimension)\n",
    "        X_train.append(list(resized_im.getdata()))\n",
    "        Y_train.append(class_indicator)\n",
    "        im.close()\n",
    "    class_indicator+=1\n",
    "\n",
    "\n",
    "X_train = np.array(X_train)\n",
    "Y_train = np.array(Y_train)\n",
    "X_train = np.reshape(X_train, (-1, features))\n",
    "Y_train = np.reshape(Y_train, (-1, 1))\n",
    "\n",
    "print(f\"X shape: {X_train.shape}\")\n",
    "print(f\"Y shape: {Y_train.shape}\")"
   ]
  }
 ],
 "metadata": {
  "language_info": {
   "name": "python"
  }
 },
 "nbformat": 4,
 "nbformat_minor": 2
}
